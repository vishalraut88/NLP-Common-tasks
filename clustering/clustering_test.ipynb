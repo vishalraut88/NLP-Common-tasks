{
 "cells": [
  {
   "cell_type": "code",
   "execution_count": 1,
   "id": "28bb73ea",
   "metadata": {},
   "outputs": [],
   "source": [
    "import pandas as pd\n",
    "import numpy as np\n",
    "import re\n",
    "import sys\n",
    "sys.path.append(\"..\")\n",
    "from preprocessing.Preprocessing import Textpreprocessing\n",
    "from gensim.corpora import Dictionary\n",
    "from gensim.models import LdaMulticore\n",
    "\n",
    "\n",
    "from sklearn.feature_extraction.text import TfidfVectorizer\n",
    "from sklearn.cluster import KMeans\n",
    "from sklearn.metrics import silhouette_score\n",
    "import matplotlib.pyplot as plt\n",
    "from clustering import clustering"
   ]
  },
  {
   "cell_type": "code",
   "execution_count": 2,
   "id": "dc52a8d0",
   "metadata": {},
   "outputs": [],
   "source": [
    "df = pd.read_csv(\"../data/bbc-text.csv\")"
   ]
  },
  {
   "cell_type": "code",
   "execution_count": 3,
   "id": "91eb0d93",
   "metadata": {},
   "outputs": [
    {
     "name": "stderr",
     "output_type": "stream",
     "text": [
      "C:\\Users\\vishalra\\Anaconda3\\envs\\nlp_tasks\\lib\\site-packages\\sklearn\\cluster\\_kmeans.py:870: FutureWarning: The default value of `n_init` will change from 10 to 'auto' in 1.4. Set the value of `n_init` explicitly to suppress the warning\n",
      "  warnings.warn(\n"
     ]
    }
   ],
   "source": [
    "c1=Textpreprocessing()\n",
    "clust= clustering()\n",
    "df.text = df.text.apply(c1.text_cleaning)\n",
    "df_output = clust.KMeans_clustering(\"tfidf\",df.text)"
   ]
  },
  {
   "cell_type": "code",
   "execution_count": null,
   "id": "cf3ebc35",
   "metadata": {},
   "outputs": [],
   "source": []
  },
  {
   "cell_type": "code",
   "execution_count": null,
   "id": "f37d6118",
   "metadata": {},
   "outputs": [],
   "source": []
  },
  {
   "cell_type": "code",
   "execution_count": null,
   "id": "3433306e",
   "metadata": {},
   "outputs": [],
   "source": [
    "# vect=TfidfVectorizer()\n",
    "# x = vect.fit_transform(df.text)\n",
    "# lst_sum_square_distance=[]\n",
    "# lst_silhouette_score=[]\n",
    "# for k in range (2,int(np.sqrt(len(df.text))),5):\n",
    "#     model =KMeans(n_clusters=k)\n",
    "#     result = model.fit(x)\n",
    "\n",
    "#     print(silhouette_score(x,result.labels_,metric=\"euclidean\",))\n",
    "#     lst_silhouette_score.append(silhouette_score(x,result.labels_,metric=\"euclidean\",))\n",
    "#     print(result.inertia_)\n",
    "#     lst_sum_square_distance.append(result.inertia_)\n",
    "    \n",
    "    "
   ]
  },
  {
   "cell_type": "code",
   "execution_count": null,
   "id": "e3978ae8",
   "metadata": {},
   "outputs": [],
   "source": [
    "# K=range (2,int(np.sqrt(len(df.text))),5)\n",
    "# plt.plot(K, lst_sum_square_distance, 'bx-')\n",
    "# plt.xlabel('k')\n",
    "# plt.ylabel('silhouette score')\n",
    "# plt.title('Elbow Method For Optimal k')\n",
    "# plt.show()"
   ]
  },
  {
   "cell_type": "code",
   "execution_count": null,
   "id": "59e21bd1",
   "metadata": {},
   "outputs": [],
   "source": [
    "# K=range (2,int(np.sqrt(len(df.text))),5)\n",
    "# plt.plot(K, lst_silhouette_score, 'bx-')\n",
    "# plt.xlabel('k')\n",
    "# plt.ylabel('silhouette score')\n",
    "# plt.title('Elbow Method For Optimal k')\n",
    "# plt.show()"
   ]
  },
  {
   "cell_type": "code",
   "execution_count": null,
   "id": "066d465f",
   "metadata": {},
   "outputs": [],
   "source": [
    "# K=range (2,int(np.sqrt(len(df.text))),5)\n",
    "# plt.plot(K, lst_sum_square_distance, 'bx-')\n",
    "# plt.xlabel('k')\n",
    "# plt.ylabel('Sum_of_squared_distances')\n",
    "# plt.title('Elbow Method For Optimal k')\n",
    "# plt.show()"
   ]
  }
 ],
 "metadata": {
  "kernelspec": {
   "display_name": "nlp_tasks",
   "language": "python",
   "name": "nlp_tasks"
  },
  "language_info": {
   "codemirror_mode": {
    "name": "ipython",
    "version": 3
   },
   "file_extension": ".py",
   "mimetype": "text/x-python",
   "name": "python",
   "nbconvert_exporter": "python",
   "pygments_lexer": "ipython3",
   "version": "3.10.9"
  }
 },
 "nbformat": 4,
 "nbformat_minor": 5
}
