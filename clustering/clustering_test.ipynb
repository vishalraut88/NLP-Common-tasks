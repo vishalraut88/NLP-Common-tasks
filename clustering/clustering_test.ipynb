{
 "cells": [
  {
   "cell_type": "code",
   "execution_count": 4,
   "id": "705e1ba9",
   "metadata": {},
   "outputs": [
    {
     "name": "stdout",
     "output_type": "stream",
     "text": [
      "Requirement already satisfied: mlflow in c:\\users\\vishalra\\anaconda3\\lib\\site-packages (2.2.1)\n",
      "Requirement already satisfied: protobuf<5,>=3.12.0 in c:\\users\\vishalra\\anaconda3\\lib\\site-packages (from mlflow) (3.19.1)\n",
      "Requirement already satisfied: sqlalchemy<3,>=1.4.0 in c:\\users\\vishalra\\anaconda3\\lib\\site-packages (from mlflow) (1.4.32)\n",
      "Requirement already satisfied: scipy<2 in c:\\users\\vishalra\\appdata\\roaming\\python\\python39\\site-packages (from mlflow) (1.10.0)\n",
      "Requirement already satisfied: scikit-learn<2 in c:\\users\\vishalra\\appdata\\roaming\\python\\python39\\site-packages (from mlflow) (1.2.1)\n",
      "Requirement already satisfied: cloudpickle<3 in c:\\users\\vishalra\\anaconda3\\lib\\site-packages (from mlflow) (2.0.0)\n",
      "Requirement already satisfied: markdown<4,>=3.3 in c:\\users\\vishalra\\anaconda3\\lib\\site-packages (from mlflow) (3.3.4)\n",
      "Requirement already satisfied: waitress<3 in c:\\users\\vishalra\\appdata\\roaming\\python\\python39\\site-packages (from mlflow) (2.1.2)\n",
      "Requirement already satisfied: docker<7,>=4.0.0 in c:\\users\\vishalra\\appdata\\roaming\\python\\python39\\site-packages (from mlflow) (6.0.1)\n",
      "Requirement already satisfied: matplotlib<4 in c:\\users\\vishalra\\anaconda3\\lib\\site-packages (from mlflow) (3.5.1)\n",
      "Requirement already satisfied: Jinja2<4,>=3.0 in c:\\users\\vishalra\\appdata\\roaming\\python\\python39\\site-packages (from mlflow) (3.1.2)\n",
      "Requirement already satisfied: click<9,>=7.0 in c:\\users\\vishalra\\anaconda3\\lib\\site-packages (from mlflow) (8.0.4)\n",
      "Requirement already satisfied: requests<3,>=2.17.3 in c:\\users\\vishalra\\anaconda3\\lib\\site-packages (from mlflow) (2.27.1)\n",
      "Requirement already satisfied: pytz<2023 in c:\\users\\vishalra\\anaconda3\\lib\\site-packages (from mlflow) (2021.3)\n",
      "Requirement already satisfied: alembic<2 in c:\\users\\vishalra\\appdata\\roaming\\python\\python39\\site-packages (from mlflow) (1.9.4)\n",
      "Requirement already satisfied: gitpython<4,>=2.1.0 in c:\\users\\vishalra\\appdata\\roaming\\python\\python39\\site-packages (from mlflow) (3.1.31)\n",
      "Requirement already satisfied: databricks-cli<1,>=0.8.7 in c:\\users\\vishalra\\appdata\\roaming\\python\\python39\\site-packages (from mlflow) (0.17.4)\n",
      "Requirement already satisfied: pyyaml<7,>=5.1 in c:\\users\\vishalra\\anaconda3\\lib\\site-packages (from mlflow) (6.0)\n",
      "Requirement already satisfied: pandas<3 in c:\\users\\vishalra\\anaconda3\\lib\\site-packages (from mlflow) (1.5.3)\n",
      "Requirement already satisfied: entrypoints<1 in c:\\users\\vishalra\\anaconda3\\lib\\site-packages (from mlflow) (0.4)\n",
      "Requirement already satisfied: numpy<2 in c:\\users\\vishalra\\anaconda3\\lib\\site-packages (from mlflow) (1.21.6)\n",
      "Requirement already satisfied: Flask<3 in c:\\users\\vishalra\\anaconda3\\lib\\site-packages (from mlflow) (1.1.2)\n",
      "Requirement already satisfied: importlib-metadata!=4.7.0,<7,>=3.7.0 in c:\\users\\vishalra\\appdata\\roaming\\python\\python39\\site-packages (from mlflow) (6.0.0)\n",
      "Requirement already satisfied: sqlparse<1,>=0.4.0 in c:\\users\\vishalra\\appdata\\roaming\\python\\python39\\site-packages (from mlflow) (0.4.3)\n",
      "Requirement already satisfied: packaging<24 in c:\\users\\vishalra\\appdata\\roaming\\python\\python39\\site-packages (from mlflow) (23.0)\n",
      "Requirement already satisfied: pyarrow<12,>=4.0.0 in c:\\users\\vishalra\\anaconda3\\lib\\site-packages (from mlflow) (10.0.1)\n",
      "Requirement already satisfied: querystring-parser<2 in c:\\users\\vishalra\\appdata\\roaming\\python\\python39\\site-packages (from mlflow) (1.2.4)\n",
      "Requirement already satisfied: shap<1,>=0.40 in c:\\users\\vishalra\\appdata\\roaming\\python\\python39\\site-packages (from mlflow) (0.41.0)\n",
      "Requirement already satisfied: Mako in c:\\users\\vishalra\\appdata\\roaming\\python\\python39\\site-packages (from alembic<2->mlflow) (1.2.4)\n",
      "Requirement already satisfied: colorama in c:\\users\\vishalra\\appdata\\roaming\\python\\python39\\site-packages (from click<9,>=7.0->mlflow) (0.4.6)\n",
      "Requirement already satisfied: six>=1.10.0 in c:\\users\\vishalra\\appdata\\roaming\\python\\python39\\site-packages (from databricks-cli<1,>=0.8.7->mlflow) (1.16.0)\n",
      "Requirement already satisfied: pyjwt>=1.7.0 in c:\\users\\vishalra\\anaconda3\\lib\\site-packages (from databricks-cli<1,>=0.8.7->mlflow) (2.1.0)\n",
      "Requirement already satisfied: tabulate>=0.7.7 in c:\\users\\vishalra\\anaconda3\\lib\\site-packages (from databricks-cli<1,>=0.8.7->mlflow) (0.8.9)\n",
      "Requirement already satisfied: oauthlib>=3.1.0 in c:\\users\\vishalra\\anaconda3\\lib\\site-packages (from databricks-cli<1,>=0.8.7->mlflow) (3.2.1)\n",
      "Requirement already satisfied: websocket-client>=0.32.0 in c:\\users\\vishalra\\anaconda3\\lib\\site-packages (from docker<7,>=4.0.0->mlflow) (0.58.0)\n",
      "Requirement already satisfied: pywin32>=304 in c:\\users\\vishalra\\appdata\\roaming\\python\\python39\\site-packages (from docker<7,>=4.0.0->mlflow) (305)\n",
      "Requirement already satisfied: urllib3>=1.26.0 in c:\\users\\vishalra\\anaconda3\\lib\\site-packages (from docker<7,>=4.0.0->mlflow) (1.26.9)\n",
      "Requirement already satisfied: Werkzeug>=0.15 in c:\\users\\vishalra\\anaconda3\\lib\\site-packages (from Flask<3->mlflow) (2.0.3)\n",
      "Requirement already satisfied: itsdangerous>=0.24 in c:\\users\\vishalra\\anaconda3\\lib\\site-packages (from Flask<3->mlflow) (2.0.1)\n",
      "Requirement already satisfied: gitdb<5,>=4.0.1 in c:\\users\\vishalra\\appdata\\roaming\\python\\python39\\site-packages (from gitpython<4,>=2.1.0->mlflow) (4.0.10)\n",
      "Requirement already satisfied: smmap<6,>=3.0.1 in c:\\users\\vishalra\\appdata\\roaming\\python\\python39\\site-packages (from gitdb<5,>=4.0.1->gitpython<4,>=2.1.0->mlflow) (5.0.0)\n",
      "Requirement already satisfied: zipp>=0.5 in c:\\users\\vishalra\\appdata\\roaming\\python\\python39\\site-packages (from importlib-metadata!=4.7.0,<7,>=3.7.0->mlflow) (3.12.0)\n",
      "Requirement already satisfied: MarkupSafe>=2.0 in c:\\users\\vishalra\\anaconda3\\lib\\site-packages (from Jinja2<4,>=3.0->mlflow) (2.0.1)\n",
      "Requirement already satisfied: cycler>=0.10 in c:\\users\\vishalra\\anaconda3\\lib\\site-packages (from matplotlib<4->mlflow) (0.11.0)\n",
      "Requirement already satisfied: pyparsing>=2.2.1 in c:\\users\\vishalra\\anaconda3\\lib\\site-packages (from matplotlib<4->mlflow) (3.0.4)\n",
      "Requirement already satisfied: fonttools>=4.22.0 in c:\\users\\vishalra\\anaconda3\\lib\\site-packages (from matplotlib<4->mlflow) (4.25.0)\n",
      "Requirement already satisfied: pillow>=6.2.0 in c:\\users\\vishalra\\anaconda3\\lib\\site-packages (from matplotlib<4->mlflow) (9.0.1)\n",
      "Requirement already satisfied: python-dateutil>=2.7 in c:\\users\\vishalra\\appdata\\roaming\\python\\python39\\site-packages (from matplotlib<4->mlflow) (2.8.2)\n",
      "Requirement already satisfied: kiwisolver>=1.0.1 in c:\\users\\vishalra\\anaconda3\\lib\\site-packages (from matplotlib<4->mlflow) (1.3.2)\n",
      "Requirement already satisfied: charset-normalizer~=2.0.0 in c:\\users\\vishalra\\anaconda3\\lib\\site-packages (from requests<3,>=2.17.3->mlflow) (2.0.4)\n",
      "Requirement already satisfied: certifi>=2017.4.17 in c:\\users\\vishalra\\anaconda3\\lib\\site-packages (from requests<3,>=2.17.3->mlflow) (2021.10.8)\n",
      "Requirement already satisfied: idna<4,>=2.5 in c:\\users\\vishalra\\anaconda3\\lib\\site-packages (from requests<3,>=2.17.3->mlflow) (3.3)\n",
      "Requirement already satisfied: joblib>=1.1.1 in c:\\users\\vishalra\\appdata\\roaming\\python\\python39\\site-packages (from scikit-learn<2->mlflow) (1.2.0)\n",
      "Requirement already satisfied: threadpoolctl>=2.0.0 in c:\\users\\vishalra\\anaconda3\\lib\\site-packages (from scikit-learn<2->mlflow) (2.2.0)\n",
      "Requirement already satisfied: numba in c:\\users\\vishalra\\anaconda3\\lib\\site-packages (from shap<1,>=0.40->mlflow) (0.55.1)\n",
      "Requirement already satisfied: slicer==0.0.7 in c:\\users\\vishalra\\appdata\\roaming\\python\\python39\\site-packages (from shap<1,>=0.40->mlflow) (0.0.7)\n",
      "Requirement already satisfied: tqdm>4.25.0 in c:\\users\\vishalra\\anaconda3\\lib\\site-packages (from shap<1,>=0.40->mlflow) (4.64.0)\n",
      "Requirement already satisfied: greenlet!=0.4.17 in c:\\users\\vishalra\\anaconda3\\lib\\site-packages (from sqlalchemy<3,>=1.4.0->mlflow) (1.1.1)\n",
      "Requirement already satisfied: llvmlite<0.39,>=0.38.0rc1 in c:\\users\\vishalra\\anaconda3\\lib\\site-packages (from numba->shap<1,>=0.40->mlflow) (0.38.0)\n",
      "Requirement already satisfied: setuptools in c:\\users\\vishalra\\anaconda3\\lib\\site-packages (from numba->shap<1,>=0.40->mlflow) (61.2.0)\n"
     ]
    }
   ],
   "source": [
    "!pip install --user mlflow"
   ]
  },
  {
   "cell_type": "code",
   "execution_count": 5,
   "id": "1de554ca",
   "metadata": {},
   "outputs": [
    {
     "ename": "ModuleNotFoundError",
     "evalue": "No module named 'mlflow'",
     "output_type": "error",
     "traceback": [
      "\u001b[1;31m---------------------------------------------------------------------------\u001b[0m",
      "\u001b[1;31mModuleNotFoundError\u001b[0m                       Traceback (most recent call last)",
      "Cell \u001b[1;32mIn[5], line 1\u001b[0m\n\u001b[1;32m----> 1\u001b[0m \u001b[38;5;28;01mimport\u001b[39;00m \u001b[38;5;21;01mmlflow\u001b[39;00m\n\u001b[0;32m      2\u001b[0m \u001b[38;5;66;03m# !mlflow --version\u001b[39;00m\n",
      "\u001b[1;31mModuleNotFoundError\u001b[0m: No module named 'mlflow'"
     ]
    }
   ],
   "source": [
    "import mlflow\n",
    "# !mlflow --version"
   ]
  },
  {
   "cell_type": "code",
   "execution_count": 2,
   "id": "7932dc35",
   "metadata": {},
   "outputs": [
    {
     "ename": "ModuleNotFoundError",
     "evalue": "No module named 'mlflow'",
     "output_type": "error",
     "traceback": [
      "\u001b[1;31m---------------------------------------------------------------------------\u001b[0m",
      "\u001b[1;31mModuleNotFoundError\u001b[0m                       Traceback (most recent call last)",
      "Cell \u001b[1;32mIn[2], line 1\u001b[0m\n\u001b[1;32m----> 1\u001b[0m \u001b[38;5;28;01mimport\u001b[39;00m \u001b[38;5;21;01mmlflow\u001b[39;00m \n\u001b[0;32m      2\u001b[0m \u001b[38;5;28;01mfrom\u001b[39;00m \u001b[38;5;21;01mmlflow\u001b[39;00m \u001b[38;5;28;01mimport\u001b[39;00m log_metric, log_param, log_artifacts\n\u001b[0;32m      3\u001b[0m \u001b[38;5;66;03m# from random import random, randint\u001b[39;00m\n\u001b[0;32m      4\u001b[0m \n\u001b[0;32m      5\u001b[0m \u001b[38;5;66;03m# mlflow.set_tracking_uri(\"http://localhost:5000\")\u001b[39;00m\n\u001b[0;32m      6\u001b[0m \n\u001b[0;32m      7\u001b[0m \u001b[38;5;66;03m# log_param(\"param1\", randint(0, 100))\u001b[39;00m\n",
      "\u001b[1;31mModuleNotFoundError\u001b[0m: No module named 'mlflow'"
     ]
    }
   ],
   "source": [
    "import mlflow \n",
    "from mlflow import log_metric, log_param, log_artifacts\n",
    "# from random import random, randint\n",
    "\n",
    "# mlflow.set_tracking_uri(\"http://localhost:5000\")\n",
    "\n",
    "# log_param(\"param1\", randint(0, 100))\n"
   ]
  },
  {
   "cell_type": "code",
   "execution_count": null,
   "id": "471d5ac9",
   "metadata": {},
   "outputs": [],
   "source": [
    "mlflow.start_run()"
   ]
  },
  {
   "cell_type": "code",
   "execution_count": null,
   "id": "c60517ff",
   "metadata": {},
   "outputs": [],
   "source": [
    "!mlflow ui"
   ]
  },
  {
   "cell_type": "code",
   "execution_count": null,
   "id": "28bb73ea",
   "metadata": {},
   "outputs": [],
   "source": [
    "import pandas as pd\n",
    "import numpy as np\n",
    "import re\n",
    "import sys\n",
    "sys.path.append(\"..\")\n",
    "from preprocessing.Preprocessing import Textpreprocessing\n",
    "from gensim.corpora import Dictionary\n",
    "from gensim.models import LdaMulticore\n"
   ]
  },
  {
   "cell_type": "code",
   "execution_count": null,
   "id": "43764d88",
   "metadata": {},
   "outputs": [],
   "source": [
    "sys.path.append('C:/Users/vishalra/AppData/Roaming/Python/Python310/Scripts')\n",
    "sys.path.append('C:/Users/vishalra/appdata/roaming/python/python39/site-packages')"
   ]
  },
  {
   "cell_type": "code",
   "execution_count": null,
   "id": "51e25969",
   "metadata": {},
   "outputs": [],
   "source": [
    "df = pd.read_csv(\"../data/train.csv\")"
   ]
  },
  {
   "cell_type": "code",
   "execution_count": null,
   "id": "715b59c9",
   "metadata": {},
   "outputs": [],
   "source": [
    "c1=Textpreprocessing()\n",
    "df.text = df.text.apply(c1.text_cleaning)\n",
    "df[\"text_tokens\"] = df.text.apply(lambda x : x.split())\n",
    "id2word=Dictionary(df[\"text_tokens\"])"
   ]
  },
  {
   "cell_type": "code",
   "execution_count": null,
   "id": "696fe6a6",
   "metadata": {},
   "outputs": [],
   "source": [
    "corpus = [id2word.doc2bow(d) for d in df[\"text_tokens\"]]"
   ]
  },
  {
   "cell_type": "code",
   "execution_count": null,
   "id": "3af82590",
   "metadata": {},
   "outputs": [],
   "source": [
    "number_of_topics=5"
   ]
  },
  {
   "cell_type": "code",
   "execution_count": null,
   "id": "3abf14b3",
   "metadata": {},
   "outputs": [],
   "source": [
    "base_model = LdaMulticore(corpus=corpus, num_topics=number_of_topics, id2word=id2word, workers=12, passes=5)\n"
   ]
  },
  {
   "cell_type": "code",
   "execution_count": null,
   "id": "59e24faa",
   "metadata": {},
   "outputs": [],
   "source": [
    "words = [re.findall(r'\"([^\"]*)\"',t[1]) for t in base_model.print_topics()]\n",
    "# Create Topics\n",
    "topics = [' '.join(t[0:10]) for t in words]"
   ]
  },
  {
   "cell_type": "code",
   "execution_count": null,
   "id": "e2ff2ca2",
   "metadata": {},
   "outputs": [],
   "source": [
    "# Getting the topics\n",
    "for id, t in enumerate(topics): \n",
    "    print(f\"------ Topic {id} ------\")\n",
    "    print(t, end=\"\\n\\n\")"
   ]
  },
  {
   "cell_type": "code",
   "execution_count": null,
   "id": "b23118e8",
   "metadata": {},
   "outputs": [],
   "source": [
    "class clustering():\n",
    "\n",
    "    def __init__(self):\n",
    "        pass\n",
    "    \n",
    "    def lda(text_data):\n",
    "        text_data = text_data.apply(lambda x : x.split())\n"
   ]
  }
 ],
 "metadata": {
  "kernelspec": {
   "display_name": "nlp_tasks",
   "language": "python",
   "name": "nlp_tasks"
  },
  "language_info": {
   "codemirror_mode": {
    "name": "ipython",
    "version": 3
   },
   "file_extension": ".py",
   "mimetype": "text/x-python",
   "name": "python",
   "nbconvert_exporter": "python",
   "pygments_lexer": "ipython3",
   "version": "3.10.9"
  }
 },
 "nbformat": 4,
 "nbformat_minor": 5
}
